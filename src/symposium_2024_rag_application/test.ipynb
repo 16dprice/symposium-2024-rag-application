{
 "cells": [
  {
   "cell_type": "markdown",
   "metadata": {},
   "source": [
    "# Setup"
   ]
  },
  {
   "cell_type": "code",
   "execution_count": 1,
   "metadata": {},
   "outputs": [],
   "source": [
    "__import__('pysqlite3')\n",
    "import sys\n",
    "sys.modules['sqlite3'] = sys.modules.pop('pysqlite3')"
   ]
  },
  {
   "cell_type": "code",
   "execution_count": 2,
   "metadata": {},
   "outputs": [],
   "source": [
    "# import libraries\n",
    "import os\n",
    "import pandas as pd\n",
    "\n",
    "from dotenv import load_dotenv\n",
    "from langchain_community.document_loaders import PyPDFLoader\n",
    "from langchain.text_splitter import RecursiveCharacterTextSplitter\n",
    "from langchain.embeddings.openai import OpenAIEmbeddings\n",
    "from langchain.vectorstores import Chroma\n",
    "from langchain.prompts import ChatPromptTemplate\n",
    "from langchain.chat_models import ChatOpenAI\n",
    "\n",
    "load_dotenv()\n",
    "pd.set_option('display.max_colwidth', 0)\n",
    "\n",
    "OPENAI_API_KEY = os.getenv('OPENAI_API_KEY') # add your OpenAI API Key\n",
    "# for this example I used Alphabet Inc 10-K Report 2022 \n",
    "# https://www.sec.gov/Archives/edgar/data/1652044/000165204423000016/goog-20221231.htm\n",
    "DOC_PATH = \"./alphabet_10K_2022.pdf\"\n",
    "CHROMA_PATH = \"rag_demo\"\n"
   ]
  },
  {
   "cell_type": "markdown",
   "metadata": {},
   "source": [
    "# Data Indexing"
   ]
  },
  {
   "cell_type": "code",
   "execution_count": 3,
   "metadata": {},
   "outputs": [],
   "source": [
    "# load your pdf doc\n",
    "loader = PyPDFLoader(DOC_PATH)\n",
    "pages = loader.load()"
   ]
  },
  {
   "cell_type": "code",
   "execution_count": 4,
   "metadata": {},
   "outputs": [],
   "source": [
    "# split the doc into smaller chunks i.e. chunk_size=500\n",
    "text_splitter = RecursiveCharacterTextSplitter(chunk_size=500, chunk_overlap=50)\n",
    "chunks = text_splitter.split_documents(pages)"
   ]
  },
  {
   "cell_type": "code",
   "execution_count": 5,
   "metadata": {},
   "outputs": [
    {
     "name": "stderr",
     "output_type": "stream",
     "text": [
      "/tmp/ipykernel_13471/1933622462.py:2: LangChainDeprecationWarning: The class `OpenAIEmbeddings` was deprecated in LangChain 0.0.9 and will be removed in 1.0. An updated version of the class exists in the :class:`~langchain-openai package and should be used instead. To use it run `pip install -U :class:`~langchain-openai` and import as `from :class:`~langchain_openai import OpenAIEmbeddings``.\n",
      "  embeddings = OpenAIEmbeddings(openai_api_key=OPENAI_API_KEY)\n"
     ]
    }
   ],
   "source": [
    "# get OpenAI Embedding model\n",
    "embeddings = OpenAIEmbeddings(openai_api_key=OPENAI_API_KEY)"
   ]
  },
  {
   "cell_type": "code",
   "execution_count": 6,
   "metadata": {},
   "outputs": [],
   "source": [
    "# embed the chunks as vectors and load them into the database\n",
    "db_chroma = Chroma.from_documents(chunks, embeddings, persist_directory=CHROMA_PATH)"
   ]
  },
  {
   "cell_type": "markdown",
   "metadata": {},
   "source": [
    "# Retrieval and Generation"
   ]
  },
  {
   "cell_type": "code",
   "execution_count": 7,
   "metadata": {},
   "outputs": [],
   "source": [
    "PROMPT_TEMPLATE = \"\"\"\n",
    "Answer the question based only on the following context:\n",
    "{context}\n",
    "Answer the question based on the above context: {question}.\n",
    "Provide a detailed answer.\n",
    "Don’t justify your answers.\n",
    "Don’t give information not mentioned in the CONTEXT INFORMATION.\n",
    "Do not say \"according to the context\" or \"mentioned in the context\" or similar.\n",
    "\"\"\"\n",
    "prompt_template = ChatPromptTemplate.from_template(PROMPT_TEMPLATE)"
   ]
  },
  {
   "cell_type": "code",
   "execution_count": 8,
   "metadata": {},
   "outputs": [],
   "source": [
    "def run_query(query: str) -> str:\n",
    "    docs = db_chroma.similarity_search_with_score(query, k=5)\n",
    "\n",
    "    context_text = \"\\n\\n\".join([doc.page_content for doc, _score in docs])\n",
    "    prompt = prompt_template.format(context=context_text, question=query)\n",
    "\n",
    "    model = ChatOpenAI()\n",
    "    response_text = model.predict(prompt)\n",
    "\n",
    "    return {\n",
    "        \"docs\": docs,\n",
    "        \"response\": response_text\n",
    "    }\n",
    "\n",
    "def get_dataframe_from_result(res):\n",
    "    return pd.DataFrame({\n",
    "        \"page\": [doc[0].metadata[\"page\"] for doc in res[\"docs\"]],\n",
    "        \"page_content\": [doc[0].page_content for doc in res[\"docs\"]],\n",
    "    })\n",
    "    "
   ]
  },
  {
   "cell_type": "code",
   "execution_count": 9,
   "metadata": {},
   "outputs": [
    {
     "name": "stderr",
     "output_type": "stream",
     "text": [
      "/tmp/ipykernel_13471/1233978569.py:7: LangChainDeprecationWarning: The class `ChatOpenAI` was deprecated in LangChain 0.0.10 and will be removed in 1.0. An updated version of the class exists in the :class:`~langchain-openai package and should be used instead. To use it run `pip install -U :class:`~langchain-openai` and import as `from :class:`~langchain_openai import ChatOpenAI``.\n",
      "  model = ChatOpenAI()\n",
      "/tmp/ipykernel_13471/1233978569.py:8: LangChainDeprecationWarning: The method `BaseChatModel.predict` was deprecated in langchain-core 0.1.7 and will be removed in 1.0. Use :meth:`~invoke` instead.\n",
      "  response_text = model.predict(prompt)\n"
     ]
    }
   ],
   "source": [
    "result1 = run_query(\"what are the top risks mentioned in the document?\")"
   ]
  },
  {
   "cell_type": "code",
   "execution_count": 10,
   "metadata": {},
   "outputs": [
    {
     "name": "stdout",
     "output_type": "stream",
     "text": [
      "The top risks mentioned in the document are interruption from modifications or upgrades, terrorist attacks, state-sponsored attacks, natural disasters or pandemics, geopolitical tensions or armed conflicts, and the effects of climate change. Additionally, another significant risk highlighted is the potential harm to the business if manufacturers and users do not widely adopt versions of their products and services developed for evolving platforms and devices.\n"
     ]
    },
    {
     "data": {
      "text/html": [
       "<div>\n",
       "<style scoped>\n",
       "    .dataframe tbody tr th:only-of-type {\n",
       "        vertical-align: middle;\n",
       "    }\n",
       "\n",
       "    .dataframe tbody tr th {\n",
       "        vertical-align: top;\n",
       "    }\n",
       "\n",
       "    .dataframe thead th {\n",
       "        text-align: right;\n",
       "    }\n",
       "</style>\n",
       "<table border=\"1\" class=\"dataframe\">\n",
       "  <thead>\n",
       "    <tr style=\"text-align: right;\">\n",
       "      <th></th>\n",
       "      <th>page</th>\n",
       "      <th>page_content</th>\n",
       "    </tr>\n",
       "  </thead>\n",
       "  <tbody>\n",
       "    <tr>\n",
       "      <th>0</th>\n",
       "      <td>20</td>\n",
       "      <td>interruption from modifications or upgrades, terrorist attacks, state-sponsored attacks, natural disasters or pandemics,\\ngeopolitical tensions or armed conflicts, the effects of climate change (such as sea level rise, drought, flooding, heat waves,\\nwildfires and resultant air quality effects and power shutoffs associated with wildfire prevention, and increased storm severity),</td>\n",
       "    </tr>\n",
       "    <tr>\n",
       "      <th>1</th>\n",
       "      <td>20</td>\n",
       "      <td>interruption from modifications or upgrades, terrorist attacks, state-sponsored attacks, natural disasters or pandemics,\\ngeopolitical tensions or armed conflicts, the effects of climate change (such as sea level rise, drought, flooding, heat waves,\\nwildfires and resultant air quality effects and power shutoffs associated with wildfire prevention, and increased storm severity),</td>\n",
       "    </tr>\n",
       "    <tr>\n",
       "      <th>2</th>\n",
       "      <td>20</td>\n",
       "      <td>interruption from modifications or upgrades, terrorist attacks, state-sponsored attacks, natural disasters or pandemics,\\ngeopolitical tensions or armed conflicts, the effects of climate change (such as sea level rise, drought, flooding, heat waves,\\nwildfires and resultant air quality effects and power shutoffs associated with wildfire prevention, and increased storm severity),</td>\n",
       "    </tr>\n",
       "    <tr>\n",
       "      <th>3</th>\n",
       "      <td>21</td>\n",
       "      <td>As a result of these factors, the value of our investments could decline, which could harm our financial condition and\\noperating results.\\nRisks Related to our Industry\\nPeople access the Internet through a variety of platforms and devices that continue to evolve with the\\nadvancement of technology and user preferences. If manufacturers and users do not widely adopt versions of our\\nproducts and services developed for these interfaces, our business could be harmed.</td>\n",
       "    </tr>\n",
       "    <tr>\n",
       "      <th>4</th>\n",
       "      <td>21</td>\n",
       "      <td>As a result of these factors, the value of our investments could decline, which could harm our financial condition and\\noperating results.\\nRisks Related to our Industry\\nPeople access the Internet through a variety of platforms and devices that continue to evolve with the\\nadvancement of technology and user preferences. If manufacturers and users do not widely adopt versions of our\\nproducts and services developed for these interfaces, our business could be harmed.</td>\n",
       "    </tr>\n",
       "  </tbody>\n",
       "</table>\n",
       "</div>"
      ],
      "text/plain": [
       "   page  \\\n",
       "0  20     \n",
       "1  20     \n",
       "2  20     \n",
       "3  21     \n",
       "4  21     \n",
       "\n",
       "                                                                                                                                                                                                                                                                                                                                                                                                                                                                             page_content  \n",
       "0  interruption from modifications or upgrades, terrorist attacks, state-sponsored attacks, natural disasters or pandemics,\\ngeopolitical tensions or armed conflicts, the effects of climate change (such as sea level rise, drought, flooding, heat waves,\\nwildfires and resultant air quality effects and power shutoffs associated with wildfire prevention, and increased storm severity),                                                                                           \n",
       "1  interruption from modifications or upgrades, terrorist attacks, state-sponsored attacks, natural disasters or pandemics,\\ngeopolitical tensions or armed conflicts, the effects of climate change (such as sea level rise, drought, flooding, heat waves,\\nwildfires and resultant air quality effects and power shutoffs associated with wildfire prevention, and increased storm severity),                                                                                           \n",
       "2  interruption from modifications or upgrades, terrorist attacks, state-sponsored attacks, natural disasters or pandemics,\\ngeopolitical tensions or armed conflicts, the effects of climate change (such as sea level rise, drought, flooding, heat waves,\\nwildfires and resultant air quality effects and power shutoffs associated with wildfire prevention, and increased storm severity),                                                                                           \n",
       "3  As a result of these factors, the value of our investments could decline, which could harm our financial condition and\\noperating results.\\nRisks Related to our Industry\\nPeople access the Internet through a variety of platforms and devices that continue to evolve with the\\nadvancement of technology and user preferences. If manufacturers and users do not widely adopt versions of our\\nproducts and services developed for these interfaces, our business could be harmed.  \n",
       "4  As a result of these factors, the value of our investments could decline, which could harm our financial condition and\\noperating results.\\nRisks Related to our Industry\\nPeople access the Internet through a variety of platforms and devices that continue to evolve with the\\nadvancement of technology and user preferences. If manufacturers and users do not widely adopt versions of our\\nproducts and services developed for these interfaces, our business could be harmed.  "
      ]
     },
     "execution_count": 10,
     "metadata": {},
     "output_type": "execute_result"
    }
   ],
   "source": [
    "print(result1[\"response\"])\n",
    "get_dataframe_from_result(result1)"
   ]
  },
  {
   "cell_type": "code",
   "execution_count": 11,
   "metadata": {},
   "outputs": [],
   "source": [
    "result2 = run_query(\"how did covid affect things?\")"
   ]
  },
  {
   "cell_type": "code",
   "execution_count": 12,
   "metadata": {},
   "outputs": [
    {
     "name": "stdout",
     "output_type": "stream",
     "text": [
      "The COVID-19 pandemic had significant and unpredictable effects on the business, financial condition, and operating results. The macroeconomic impacts resulting from COVID-19 affected revenue growth rate and expenses as a percentage of revenues. Additionally, the outsized growth in advertising revenues during the pandemic may not continue at the same pace in the future. The shift from offline to online activities due to COVID-19 has contributed to the growth of the business and revenues, but there is increasing competition for user engagement and advertisers which may further impact performance.\n"
     ]
    },
    {
     "data": {
      "text/html": [
       "<div>\n",
       "<style scoped>\n",
       "    .dataframe tbody tr th:only-of-type {\n",
       "        vertical-align: middle;\n",
       "    }\n",
       "\n",
       "    .dataframe tbody tr th {\n",
       "        vertical-align: top;\n",
       "    }\n",
       "\n",
       "    .dataframe thead th {\n",
       "        text-align: right;\n",
       "    }\n",
       "</style>\n",
       "<table border=\"1\" class=\"dataframe\">\n",
       "  <thead>\n",
       "    <tr style=\"text-align: right;\">\n",
       "      <th></th>\n",
       "      <th>page</th>\n",
       "      <th>page_content</th>\n",
       "    </tr>\n",
       "  </thead>\n",
       "  <tbody>\n",
       "    <tr>\n",
       "      <th>0</th>\n",
       "      <td>35</td>\n",
       "      <td>performance.\\nGeneral Risks\\nThe continuing effects of the COVID-19 pandemic and its impact are highly unpredictable and could be\\nsignificant, and could harm our business, financial condition, and operating results.\\nOur business, operations and financial performance have been, and may continue to be, affected by the macroeconomic\\nimpacts resulting from COVID-19, and as a result, our revenue growth rate and expenses as a percentage of our revenues in</td>\n",
       "    </tr>\n",
       "    <tr>\n",
       "      <th>1</th>\n",
       "      <td>35</td>\n",
       "      <td>performance.\\nGeneral Risks\\nThe continuing effects of the COVID-19 pandemic and its impact are highly unpredictable and could be\\nsignificant, and could harm our business, financial condition, and operating results.\\nOur business, operations and financial performance have been, and may continue to be, affected by the macroeconomic\\nimpacts resulting from COVID-19, and as a result, our revenue growth rate and expenses as a percentage of our revenues in</td>\n",
       "    </tr>\n",
       "    <tr>\n",
       "      <th>2</th>\n",
       "      <td>35</td>\n",
       "      <td>performance.\\nGeneral Risks\\nThe continuing effects of the COVID-19 pandemic and its impact are highly unpredictable and could be\\nsignificant, and could harm our business, financial condition, and operating results.\\nOur business, operations and financial performance have been, and may continue to be, affected by the macroeconomic\\nimpacts resulting from COVID-19, and as a result, our revenue growth rate and expenses as a percentage of our revenues in</td>\n",
       "    </tr>\n",
       "    <tr>\n",
       "      <th>3</th>\n",
       "      <td>41</td>\n",
       "      <td>The continuing shift from an offline to online world has contributed to the growth of our business and our revenues since\\ninception. We expect that this shift to an online world will continue to benefit our business and our revenues, although at a\\nslower pace than we have experienced historically, in particular after the outsized growth in our advertising revenues during\\nthe COVID-19 pandemic. In addition, we face increasing competition for user engagement and advertisers, which may affect</td>\n",
       "    </tr>\n",
       "    <tr>\n",
       "      <th>4</th>\n",
       "      <td>41</td>\n",
       "      <td>The continuing shift from an offline to online world has contributed to the growth of our business and our revenues since\\ninception. We expect that this shift to an online world will continue to benefit our business and our revenues, although at a\\nslower pace than we have experienced historically, in particular after the outsized growth in our advertising revenues during\\nthe COVID-19 pandemic. In addition, we face increasing competition for user engagement and advertisers, which may affect</td>\n",
       "    </tr>\n",
       "  </tbody>\n",
       "</table>\n",
       "</div>"
      ],
      "text/plain": [
       "   page  \\\n",
       "0  35     \n",
       "1  35     \n",
       "2  35     \n",
       "3  41     \n",
       "4  41     \n",
       "\n",
       "                                                                                                                                                                                                                                                                                                                                                                                                                                                                                                        page_content  \n",
       "0  performance.\\nGeneral Risks\\nThe continuing effects of the COVID-19 pandemic and its impact are highly unpredictable and could be\\nsignificant, and could harm our business, financial condition, and operating results.\\nOur business, operations and financial performance have been, and may continue to be, affected by the macroeconomic\\nimpacts resulting from COVID-19, and as a result, our revenue growth rate and expenses as a percentage of our revenues in                                           \n",
       "1  performance.\\nGeneral Risks\\nThe continuing effects of the COVID-19 pandemic and its impact are highly unpredictable and could be\\nsignificant, and could harm our business, financial condition, and operating results.\\nOur business, operations and financial performance have been, and may continue to be, affected by the macroeconomic\\nimpacts resulting from COVID-19, and as a result, our revenue growth rate and expenses as a percentage of our revenues in                                           \n",
       "2  performance.\\nGeneral Risks\\nThe continuing effects of the COVID-19 pandemic and its impact are highly unpredictable and could be\\nsignificant, and could harm our business, financial condition, and operating results.\\nOur business, operations and financial performance have been, and may continue to be, affected by the macroeconomic\\nimpacts resulting from COVID-19, and as a result, our revenue growth rate and expenses as a percentage of our revenues in                                           \n",
       "3  The continuing shift from an offline to online world has contributed to the growth of our business and our revenues since\\ninception. We expect that this shift to an online world will continue to benefit our business and our revenues, although at a\\nslower pace than we have experienced historically, in particular after the outsized growth in our advertising revenues during\\nthe COVID-19 pandemic. In addition, we face increasing competition for user engagement and advertisers, which may affect  \n",
       "4  The continuing shift from an offline to online world has contributed to the growth of our business and our revenues since\\ninception. We expect that this shift to an online world will continue to benefit our business and our revenues, although at a\\nslower pace than we have experienced historically, in particular after the outsized growth in our advertising revenues during\\nthe COVID-19 pandemic. In addition, we face increasing competition for user engagement and advertisers, which may affect  "
      ]
     },
     "execution_count": 12,
     "metadata": {},
     "output_type": "execute_result"
    }
   ],
   "source": [
    "print(result2[\"response\"])\n",
    "get_dataframe_from_result(result2)"
   ]
  }
 ],
 "metadata": {
  "kernelspec": {
   "display_name": "Python 3",
   "language": "python",
   "name": "python3"
  },
  "language_info": {
   "codemirror_mode": {
    "name": "ipython",
    "version": 3
   },
   "file_extension": ".py",
   "mimetype": "text/x-python",
   "name": "python",
   "nbconvert_exporter": "python",
   "pygments_lexer": "ipython3",
   "version": "3.12.1"
  }
 },
 "nbformat": 4,
 "nbformat_minor": 2
}
