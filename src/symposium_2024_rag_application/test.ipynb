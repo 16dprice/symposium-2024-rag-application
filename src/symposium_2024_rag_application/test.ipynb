{
 "cells": [
  {
   "cell_type": "markdown",
   "metadata": {},
   "source": [
    "# Setup"
   ]
  },
  {
   "cell_type": "code",
   "execution_count": 43,
   "metadata": {},
   "outputs": [],
   "source": [
    "# import libraries\n",
    "import os\n",
    "import pandas as pd\n",
    "\n",
    "from dotenv import load_dotenv\n",
    "from langchain_community.document_loaders import PyPDFLoader\n",
    "from langchain.text_splitter import RecursiveCharacterTextSplitter\n",
    "from langchain.embeddings.openai import OpenAIEmbeddings\n",
    "from langchain.vectorstores import Chroma\n",
    "from langchain.prompts import ChatPromptTemplate\n",
    "from langchain.chat_models import ChatOpenAI\n",
    "\n",
    "load_dotenv()\n",
    "pd.set_option('display.max_colwidth', 0)\n",
    "\n",
    "OPENAI_API_KEY = os.getenv('OPENAI_API_KEY') # add your OpenAI API Key\n",
    "# for this example I used Alphabet Inc 10-K Report 2022 \n",
    "# https://www.sec.gov/Archives/edgar/data/1652044/000165204423000016/goog-20221231.htm\n",
    "DOC_PATH = \"./alphabet_10K_2022.pdf\"\n",
    "CHROMA_PATH = \"rag_demo\"\n"
   ]
  },
  {
   "cell_type": "markdown",
   "metadata": {},
   "source": [
    "# Data Indexing"
   ]
  },
  {
   "cell_type": "code",
   "execution_count": 8,
   "metadata": {},
   "outputs": [],
   "source": [
    "# load your pdf doc\n",
    "loader = PyPDFLoader(DOC_PATH)\n",
    "pages = loader.load()"
   ]
  },
  {
   "cell_type": "code",
   "execution_count": 9,
   "metadata": {},
   "outputs": [],
   "source": [
    "# split the doc into smaller chunks i.e. chunk_size=500\n",
    "text_splitter = RecursiveCharacterTextSplitter(chunk_size=500, chunk_overlap=50)\n",
    "chunks = text_splitter.split_documents(pages)"
   ]
  },
  {
   "cell_type": "code",
   "execution_count": 10,
   "metadata": {},
   "outputs": [],
   "source": [
    "# get OpenAI Embedding model\n",
    "embeddings = OpenAIEmbeddings(openai_api_key=OPENAI_API_KEY)"
   ]
  },
  {
   "cell_type": "code",
   "execution_count": 11,
   "metadata": {},
   "outputs": [],
   "source": [
    "# embed the chunks as vectors and load them into the database\n",
    "db_chroma = Chroma.from_documents(chunks, embeddings, persist_directory=CHROMA_PATH)"
   ]
  },
  {
   "cell_type": "markdown",
   "metadata": {},
   "source": [
    "# Retrieval and Generation"
   ]
  },
  {
   "cell_type": "code",
   "execution_count": 18,
   "metadata": {},
   "outputs": [],
   "source": [
    "PROMPT_TEMPLATE = \"\"\"\n",
    "Answer the question based only on the following context:\n",
    "{context}\n",
    "Answer the question based on the above context: {question}.\n",
    "Provide a detailed answer.\n",
    "Don’t justify your answers.\n",
    "Don’t give information not mentioned in the CONTEXT INFORMATION.\n",
    "Do not say \"according to the context\" or \"mentioned in the context\" or similar.\n",
    "\"\"\"\n",
    "prompt_template = ChatPromptTemplate.from_template(PROMPT_TEMPLATE)"
   ]
  },
  {
   "cell_type": "code",
   "execution_count": 42,
   "metadata": {},
   "outputs": [],
   "source": [
    "def run_query(query: str) -> str:\n",
    "    docs = db_chroma.similarity_search_with_score(query, k=5)\n",
    "\n",
    "    context_text = \"\\n\\n\".join([doc.page_content for doc, _score in docs])\n",
    "    prompt = prompt_template.format(context=context_text, question=query)\n",
    "\n",
    "    model = ChatOpenAI()\n",
    "    response_text = model.predict(prompt)\n",
    "\n",
    "    return {\n",
    "        \"docs\": docs,\n",
    "        \"response\": response_text\n",
    "    }\n",
    "\n",
    "def get_dataframe_from_result(res):\n",
    "    return pd.DataFrame({\n",
    "        \"page\": [doc[0].metadata[\"page\"] for doc in res[\"docs\"]],\n",
    "        \"page_content\": [doc[0].page_content for doc in res[\"docs\"]],\n",
    "    })\n",
    "    "
   ]
  },
  {
   "cell_type": "code",
   "execution_count": 45,
   "metadata": {},
   "outputs": [],
   "source": [
    "result1 = run_query(\"what are the top risks mentioned in the document?\")"
   ]
  },
  {
   "cell_type": "code",
   "execution_count": 52,
   "metadata": {},
   "outputs": [
    {
     "name": "stdout",
     "output_type": "stream",
     "text": [
      "- Value of investments declining\n",
      "- Harm to financial condition and operating results\n",
      "- Failure of manufacturers and users to adopt products and services\n",
      "- Unforeseen operating difficulties and expenditures\n",
      "- Diversion of management time and focus\n",
      "- Failure to obtain required approvals from governmental authorities\n",
      "- Power loss\n",
      "- Telecommunications failures\n",
      "- Computer viruses\n",
      "- Software bugs\n",
      "- Ransomware attacks\n",
      "- Computer denial of service attacks\n",
      "- Phishing schemes\n",
      "- Natural disasters affecting data centers\n",
      "- Break-ins\n",
      "- Sabotage\n",
      "- Vandalism\n",
      "- Potential disruptions in facility operations\n"
     ]
    },
    {
     "data": {
      "text/html": [
       "<div>\n",
       "<style scoped>\n",
       "    .dataframe tbody tr th:only-of-type {\n",
       "        vertical-align: middle;\n",
       "    }\n",
       "\n",
       "    .dataframe tbody tr th {\n",
       "        vertical-align: top;\n",
       "    }\n",
       "\n",
       "    .dataframe thead th {\n",
       "        text-align: right;\n",
       "    }\n",
       "</style>\n",
       "<table border=\"1\" class=\"dataframe\">\n",
       "  <thead>\n",
       "    <tr style=\"text-align: right;\">\n",
       "      <th></th>\n",
       "      <th>page</th>\n",
       "      <th>page_content</th>\n",
       "    </tr>\n",
       "  </thead>\n",
       "  <tbody>\n",
       "    <tr>\n",
       "      <th>0</th>\n",
       "      <td>21</td>\n",
       "      <td>As a result of these factors, the value of our investments could decline, which could harm our financial condition and\\noperating results.\\nRisks Related to our Industry\\nPeople access the Internet through a variety of platforms and devices that continue to evolve with the\\nadvancement of technology and user preferences. If manufacturers and users do not widely adopt versions of our\\nproducts and services developed for these interfaces, our business could be harmed.</td>\n",
       "    </tr>\n",
       "    <tr>\n",
       "      <th>1</th>\n",
       "      <td>21</td>\n",
       "      <td>As a result of these factors, the value of our investments could decline, which could harm our financial condition and\\noperating results.\\nRisks Related to our Industry\\nPeople access the Internet through a variety of platforms and devices that continue to evolve with the\\nadvancement of technology and user preferences. If manufacturers and users do not widely adopt versions of our\\nproducts and services developed for these interfaces, our business could be harmed.</td>\n",
       "    </tr>\n",
       "    <tr>\n",
       "      <th>2</th>\n",
       "      <td>35</td>\n",
       "      <td>unforeseen operating difficulties and expenditures. Some of the areas where we face risks include:\\n• diversion of management time and focus from operating our business to challenges related to acquisitions and other\\nstrategic transactions;\\n• failure to obtain required approvals on a timely basis, if at all, from governmental authorities, or conditions placed upon\\napproval that could, among other things, delay or prevent us from completing a transaction, or otherwise restrict our</td>\n",
       "    </tr>\n",
       "    <tr>\n",
       "      <th>3</th>\n",
       "      <td>35</td>\n",
       "      <td>unforeseen operating difficulties and expenditures. Some of the areas where we face risks include:\\n• diversion of management time and focus from operating our business to challenges related to acquisitions and other\\nstrategic transactions;\\n• failure to obtain required approvals on a timely basis, if at all, from governmental authorities, or conditions placed upon\\napproval that could, among other things, delay or prevent us from completing a transaction, or otherwise restrict our</td>\n",
       "    </tr>\n",
       "    <tr>\n",
       "      <th>4</th>\n",
       "      <td>20</td>\n",
       "      <td>power loss, telecommunications failures, computer viruses, software bugs, ransomware attacks, computer denial of service\\nattacks, phishing schemes, or other attempts to harm or access our systems. Some of our data centers are located in areas\\nwith a high risk of major earthquakes or other natural disasters. Our data centers are also subject to break-ins, sabotage, and\\nintentional acts of vandalism, and, in some cases, to potential disruptions resulting from problems experienced by facility</td>\n",
       "    </tr>\n",
       "  </tbody>\n",
       "</table>\n",
       "</div>"
      ],
      "text/plain": [
       "   page  \\\n",
       "0  21     \n",
       "1  21     \n",
       "2  35     \n",
       "3  35     \n",
       "4  20     \n",
       "\n",
       "                                                                                                                                                                                                                                                                                                                                                                                                                                                                                                        page_content  \n",
       "0  As a result of these factors, the value of our investments could decline, which could harm our financial condition and\\noperating results.\\nRisks Related to our Industry\\nPeople access the Internet through a variety of platforms and devices that continue to evolve with the\\nadvancement of technology and user preferences. If manufacturers and users do not widely adopt versions of our\\nproducts and services developed for these interfaces, our business could be harmed.                             \n",
       "1  As a result of these factors, the value of our investments could decline, which could harm our financial condition and\\noperating results.\\nRisks Related to our Industry\\nPeople access the Internet through a variety of platforms and devices that continue to evolve with the\\nadvancement of technology and user preferences. If manufacturers and users do not widely adopt versions of our\\nproducts and services developed for these interfaces, our business could be harmed.                             \n",
       "2  unforeseen operating difficulties and expenditures. Some of the areas where we face risks include:\\n• diversion of management time and focus from operating our business to challenges related to acquisitions and other\\nstrategic transactions;\\n• failure to obtain required approvals on a timely basis, if at all, from governmental authorities, or conditions placed upon\\napproval that could, among other things, delay or prevent us from completing a transaction, or otherwise restrict our            \n",
       "3  unforeseen operating difficulties and expenditures. Some of the areas where we face risks include:\\n• diversion of management time and focus from operating our business to challenges related to acquisitions and other\\nstrategic transactions;\\n• failure to obtain required approvals on a timely basis, if at all, from governmental authorities, or conditions placed upon\\napproval that could, among other things, delay or prevent us from completing a transaction, or otherwise restrict our            \n",
       "4  power loss, telecommunications failures, computer viruses, software bugs, ransomware attacks, computer denial of service\\nattacks, phishing schemes, or other attempts to harm or access our systems. Some of our data centers are located in areas\\nwith a high risk of major earthquakes or other natural disasters. Our data centers are also subject to break-ins, sabotage, and\\nintentional acts of vandalism, and, in some cases, to potential disruptions resulting from problems experienced by facility  "
      ]
     },
     "execution_count": 52,
     "metadata": {},
     "output_type": "execute_result"
    }
   ],
   "source": [
    "print(result1[\"response\"])\n",
    "get_dataframe_from_result(result1)"
   ]
  },
  {
   "cell_type": "code",
   "execution_count": 53,
   "metadata": {},
   "outputs": [],
   "source": [
    "result2 = run_query(\"how did covid affect things?\")"
   ]
  },
  {
   "cell_type": "code",
   "execution_count": 54,
   "metadata": {},
   "outputs": [
    {
     "name": "stdout",
     "output_type": "stream",
     "text": [
      "COVID-19 had a significant impact on the business, financial condition, and operating results. The pandemic affected revenue growth rate and expenses as a percentage of revenues. Additionally, there was outsized growth in advertising revenues during the COVID-19 pandemic. The shift from offline to online activities benefited the business but at a slower pace than historically due to COVID-19. The company also faced increased competition for user engagement and advertisers as a result of the pandemic.\n"
     ]
    },
    {
     "data": {
      "text/html": [
       "<div>\n",
       "<style scoped>\n",
       "    .dataframe tbody tr th:only-of-type {\n",
       "        vertical-align: middle;\n",
       "    }\n",
       "\n",
       "    .dataframe tbody tr th {\n",
       "        vertical-align: top;\n",
       "    }\n",
       "\n",
       "    .dataframe thead th {\n",
       "        text-align: right;\n",
       "    }\n",
       "</style>\n",
       "<table border=\"1\" class=\"dataframe\">\n",
       "  <thead>\n",
       "    <tr style=\"text-align: right;\">\n",
       "      <th></th>\n",
       "      <th>page</th>\n",
       "      <th>page_content</th>\n",
       "    </tr>\n",
       "  </thead>\n",
       "  <tbody>\n",
       "    <tr>\n",
       "      <th>0</th>\n",
       "      <td>35</td>\n",
       "      <td>performance.\\nGeneral Risks\\nThe continuing effects of the COVID-19 pandemic and its impact are highly unpredictable and could be\\nsignificant, and could harm our business, financial condition, and operating results.\\nOur business, operations and financial performance have been, and may continue to be, affected by the macroeconomic\\nimpacts resulting from COVID-19, and as a result, our revenue growth rate and expenses as a percentage of our revenues in</td>\n",
       "    </tr>\n",
       "    <tr>\n",
       "      <th>1</th>\n",
       "      <td>35</td>\n",
       "      <td>performance.\\nGeneral Risks\\nThe continuing effects of the COVID-19 pandemic and its impact are highly unpredictable and could be\\nsignificant, and could harm our business, financial condition, and operating results.\\nOur business, operations and financial performance have been, and may continue to be, affected by the macroeconomic\\nimpacts resulting from COVID-19, and as a result, our revenue growth rate and expenses as a percentage of our revenues in</td>\n",
       "    </tr>\n",
       "    <tr>\n",
       "      <th>2</th>\n",
       "      <td>41</td>\n",
       "      <td>The continuing shift from an offline to online world has contributed to the growth of our business and our revenues since\\ninception. We expect that this shift to an online world will continue to benefit our business and our revenues, although at a\\nslower pace than we have experienced historically, in particular after the outsized growth in our advertising revenues during\\nthe COVID-19 pandemic. In addition, we face increasing competition for user engagement and advertisers, which may affect</td>\n",
       "    </tr>\n",
       "    <tr>\n",
       "      <th>3</th>\n",
       "      <td>41</td>\n",
       "      <td>The continuing shift from an offline to online world has contributed to the growth of our business and our revenues since\\ninception. We expect that this shift to an online world will continue to benefit our business and our revenues, although at a\\nslower pace than we have experienced historically, in particular after the outsized growth in our advertising revenues during\\nthe COVID-19 pandemic. In addition, we face increasing competition for user engagement and advertisers, which may affect</td>\n",
       "    </tr>\n",
       "    <tr>\n",
       "      <th>4</th>\n",
       "      <td>20</td>\n",
       "      <td>interruption from modifications or upgrades, terrorist attacks, state-sponsored attacks, natural disasters or pandemics,\\ngeopolitical tensions or armed conflicts, the effects of climate change (such as sea level rise, drought, flooding, heat waves,\\nwildfires and resultant air quality effects and power shutoffs associated with wildfire prevention, and increased storm severity),</td>\n",
       "    </tr>\n",
       "  </tbody>\n",
       "</table>\n",
       "</div>"
      ],
      "text/plain": [
       "   page  \\\n",
       "0  35     \n",
       "1  35     \n",
       "2  41     \n",
       "3  41     \n",
       "4  20     \n",
       "\n",
       "                                                                                                                                                                                                                                                                                                                                                                                                                                                                                                        page_content  \n",
       "0  performance.\\nGeneral Risks\\nThe continuing effects of the COVID-19 pandemic and its impact are highly unpredictable and could be\\nsignificant, and could harm our business, financial condition, and operating results.\\nOur business, operations and financial performance have been, and may continue to be, affected by the macroeconomic\\nimpacts resulting from COVID-19, and as a result, our revenue growth rate and expenses as a percentage of our revenues in                                           \n",
       "1  performance.\\nGeneral Risks\\nThe continuing effects of the COVID-19 pandemic and its impact are highly unpredictable and could be\\nsignificant, and could harm our business, financial condition, and operating results.\\nOur business, operations and financial performance have been, and may continue to be, affected by the macroeconomic\\nimpacts resulting from COVID-19, and as a result, our revenue growth rate and expenses as a percentage of our revenues in                                           \n",
       "2  The continuing shift from an offline to online world has contributed to the growth of our business and our revenues since\\ninception. We expect that this shift to an online world will continue to benefit our business and our revenues, although at a\\nslower pace than we have experienced historically, in particular after the outsized growth in our advertising revenues during\\nthe COVID-19 pandemic. In addition, we face increasing competition for user engagement and advertisers, which may affect  \n",
       "3  The continuing shift from an offline to online world has contributed to the growth of our business and our revenues since\\ninception. We expect that this shift to an online world will continue to benefit our business and our revenues, although at a\\nslower pace than we have experienced historically, in particular after the outsized growth in our advertising revenues during\\nthe COVID-19 pandemic. In addition, we face increasing competition for user engagement and advertisers, which may affect  \n",
       "4  interruption from modifications or upgrades, terrorist attacks, state-sponsored attacks, natural disasters or pandemics,\\ngeopolitical tensions or armed conflicts, the effects of climate change (such as sea level rise, drought, flooding, heat waves,\\nwildfires and resultant air quality effects and power shutoffs associated with wildfire prevention, and increased storm severity),                                                                                                                      "
      ]
     },
     "execution_count": 54,
     "metadata": {},
     "output_type": "execute_result"
    }
   ],
   "source": [
    "print(result2[\"response\"])\n",
    "get_dataframe_from_result(result2)"
   ]
  }
 ],
 "metadata": {
  "kernelspec": {
   "display_name": "symposium-2024-rag-application",
   "language": "python",
   "name": "python3"
  },
  "language_info": {
   "codemirror_mode": {
    "name": "ipython",
    "version": 3
   },
   "file_extension": ".py",
   "mimetype": "text/x-python",
   "name": "python",
   "nbconvert_exporter": "python",
   "pygments_lexer": "ipython3",
   "version": "3.12.4"
  }
 },
 "nbformat": 4,
 "nbformat_minor": 2
}
